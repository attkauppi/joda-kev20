{
 "cells": [
  {
   "cell_type": "code",
   "execution_count": 1,
   "metadata": {},
   "outputs": [],
   "source": [
    "# Tällaista yksinkertaista havainnollistusta vain tavoittelit ja tähänhän on mennyt jo päivä\n",
    "## https://stackoverflow.com/questions/20133479/how-to-draw-directed-graphs-using-networkx-in-python\n",
    "\n",
    "import dataset"
   ]
  },
  {
   "cell_type": "code",
   "execution_count": 2,
   "metadata": {},
   "outputs": [],
   "source": [
    "db = dataset.connect(\"sqlite:///tweets2_uusin.db\")"
   ]
  },
  {
   "cell_type": "code",
   "execution_count": 3,
   "metadata": {},
   "outputs": [],
   "source": [
    "def check_etatyo_in_tags(tweet_id):\n",
    "    res = db.query(SELECT )"
   ]
  },
  {
   "cell_type": "markdown",
   "metadata": {},
   "source": [
    "Haetaan uniikit twiitti_id:t taulusta tweet_tags. Tämän perusteella pystymme alkaa hahmotella yhteyksiä ainakin käytettyjen aihesanojen / hashtagien välillä, vaikka tämä ei tilastollisessa mielessä välttämättä kauhean arvokasta ehkä olekaan."
   ]
  },
  {
   "cell_type": "code",
   "execution_count": 4,
   "metadata": {},
   "outputs": [],
   "source": [
    "uniikit_twiitit = []\n",
    "res = db.query('SELECT DISTINCT tweet_id FROM tweet_tags')\n",
    "for row in res:\n",
    "    uniikit_twiitit.append(row['tweet_id'])\n",
    "    #print(row['tweet_id'])"
   ]
  },
  {
   "cell_type": "code",
   "execution_count": 5,
   "metadata": {},
   "outputs": [],
   "source": [
    "def add_lowercase_tweet_text():\n",
    "    \"\"\"\n",
    "    Changes the tweet text into lowercase for easier manipulation.\n",
    "    \"\"\"\n",
    "    res = db.query(\"SELECT id, text FROM tweets\")\n",
    "    table = db['tweets']\n",
    "    for row in res:\n",
    "        id = row['id']\n",
    "        text_s = row['text']\n",
    "        text_s = text_s.lower()\n",
    "        table.update(dict(id=id, text_small=text_s),['id'])\n",
    "        \n",
    "        #print(text_s)"
   ]
  },
  {
   "cell_type": "code",
   "execution_count": 6,
   "metadata": {},
   "outputs": [],
   "source": [
    "add_lowercase_tweet_text()"
   ]
  },
  {
   "cell_type": "code",
   "execution_count": 205,
   "metadata": {},
   "outputs": [
    {
     "data": {
      "text/plain": [
       "1278"
      ]
     },
     "execution_count": 205,
     "metadata": {},
     "output_type": "execute_result"
    }
   ],
   "source": [
    "len(uniikit_twiitit)"
   ]
  },
  {
   "cell_type": "code",
   "execution_count": 29,
   "metadata": {},
   "outputs": [
    {
     "name": "stdout",
     "output_type": "stream",
     "text": [
      "koirie\n"
     ]
    }
   ],
   "source": [
    "import nltk\n",
    "from nltk.stem.snowball import SnowballStemmer\n",
    "stemmer = SnowballStemmer(\"finnish\")\n",
    "print(stemmer.stem(\"koiriemme\"))\n",
    "#import sys\n",
    "#from libvoikko import Voikko\n",
    "#import voikkov = \n",
    "#v = Voikko(\"fi\")\n",
    "#word = \"kissoja\"\n",
    "#voicco_dict = Voikko.analyze(word)"
   ]
  },
  {
   "cell_type": "code",
   "execution_count": 39,
   "metadata": {},
   "outputs": [
    {
     "name": "stdout",
     "output_type": "stream",
     "text": [
      "kis\n",
      "poja\n"
     ]
    }
   ],
   "source": [
    "#v = Voikko('fi_FI')\n",
    "print(stemmer.stem(\"kissat\"))\n",
    "print(stemmer.stem(\"pojat\"))"
   ]
  },
  {
   "cell_type": "code",
   "execution_count": 36,
   "metadata": {},
   "outputs": [],
   "source": [
    "#!pip install networkx"
   ]
  },
  {
   "cell_type": "code",
   "execution_count": 207,
   "metadata": {},
   "outputs": [],
   "source": [
    "import networkx as nx"
   ]
  },
  {
   "cell_type": "markdown",
   "metadata": {},
   "source": [
    "# Graph ('verkko') model of hashtags\n",
    "\n",
    "Here I'm using a simple graph with undirected edges. The edge weight is determined by the number of times any two given tags have appeared together. All tags have, obviously, appeared with the hashtag #etätyö.\n",
    "\n",
    "Whenever we find another tweet that has the same two hashtags, we've already modelled as nodes and joined with an edge, we increase the weight of the connecting edge by +1."
   ]
  },
  {
   "cell_type": "code",
   "execution_count": 208,
   "metadata": {},
   "outputs": [],
   "source": [
    "G = nx.Graph()"
   ]
  },
  {
   "cell_type": "markdown",
   "metadata": {},
   "source": [
    "The last current tag is the one last in our hash. We could just use id:s \n",
    "from our tweets table for simplicity's sake, but since we're actually interested in knowing the names of the hashtags, we'll name our nodes as strings."
   ]
  },
  {
   "cell_type": "code",
   "execution_count": 209,
   "metadata": {},
   "outputs": [
    {
     "ename": "IndentationError",
     "evalue": "expected an indented block (<ipython-input-209-10057a99ecf2>, line 16)",
     "output_type": "error",
     "traceback": [
      "\u001b[0;36m  File \u001b[0;32m\"<ipython-input-209-10057a99ecf2>\"\u001b[0;36m, line \u001b[0;32m16\u001b[0m\n\u001b[0;31m    print(len(hashtag_lista))\u001b[0m\n\u001b[0m        ^\u001b[0m\n\u001b[0;31mIndentationError\u001b[0m\u001b[0;31m:\u001b[0m expected an indented block\n"
     ]
    }
   ],
   "source": [
    "hashtag_lista = []\n",
    "# Let's add one extraneous dummy hashtag to our list, so we can store our hash\n",
    "# tags in list indexes, which match their id's in the hashtags table. This\n",
    "# may not be necessary, but it could become handy.\n",
    "hashtag_lista.append(\"NULL\")\n",
    "\n",
    "res = db.query('SELECT hashtag FROM hashtags')\n",
    "for row in res:\n",
    "    hashtag_lista.append(row['hashtag'])\n",
    "\n",
    "    \n",
    "for i in hashtag_lista:\n",
    "    #print(i)\n",
    "    #for row in res:\n",
    "#    uniikit_twiitit.append(row['tweet_id'])\n",
    "print(len(hashtag_lista))"
   ]
  },
  {
   "cell_type": "code",
   "execution_count": 210,
   "metadata": {},
   "outputs": [],
   "source": [
    "def laskeEsiintymiskerrat(hashtag_nimi):\n",
    "    # Note how it was necessary to use the quotes, when using a string as input\n",
    "    res = db.query(\"SELECT esiintynyt FROM hashtags WHERE hashtag='{}'\".format(hashtag_nimi))\n",
    "    for row in res:\n",
    "        esiintynyt = row['esiintynyt']\n",
    "        return esiintynyt"
   ]
  },
  {
   "cell_type": "code",
   "execution_count": 211,
   "metadata": {},
   "outputs": [
    {
     "data": {
      "text/plain": [
       "839"
      ]
     },
     "execution_count": 211,
     "metadata": {},
     "output_type": "execute_result"
    }
   ],
   "source": [
    "laskeEsiintymiskerrat(\"etätyö\")"
   ]
  },
  {
   "cell_type": "code",
   "execution_count": 212,
   "metadata": {},
   "outputs": [],
   "source": [
    "res = db.query(\"SELECT esiintynyt FROM hashtags WHERE hashtag='etätyö'\")"
   ]
  },
  {
   "cell_type": "code",
   "execution_count": 213,
   "metadata": {},
   "outputs": [],
   "source": [
    "for i in range(1, len(hashtag_lista)):\n",
    "    esiintymiskerrat = laskeEsiintymiskerrat(hashtag_lista[i])\n",
    "    #print(esiintymiskerrat)\n",
    "    G.add_node(hashtag_lista[i], value=esiintymiskerrat)\n",
    "    #print(G[hashtag_lista[i]]['size'])"
   ]
  },
  {
   "cell_type": "code",
   "execution_count": 214,
   "metadata": {},
   "outputs": [],
   "source": [
    "#G.nodes()"
   ]
  },
  {
   "cell_type": "code",
   "execution_count": 215,
   "metadata": {},
   "outputs": [],
   "source": [
    "def get_hashtag_from_id(tag_id):\n",
    "    res = db.query('SELECT hashtag FROM hashtags WHERE id={}'.format(tag_id))\n",
    "    nimi = \"\"\n",
    "    for row in res:\n",
    "        nimi = row['hashtag']\n",
    "    return nimi\n",
    "    "
   ]
  },
  {
   "cell_type": "code",
   "execution_count": 216,
   "metadata": {},
   "outputs": [],
   "source": [
    "# Each \n",
    "uniikin_twiitin_hashtagit = []\n",
    "for i in uniikit_twiitit:\n",
    "    yksittaisenTwiitinHashTagit = []\n",
    "    res = db.query('SELECT tweet_id, tag_id FROM tweet_tags WHERE tweet_id={}'.format(i))\n",
    "    #print(\"\\nUusi\\n\")\n",
    "    for row in res:\n",
    "        #print(row['tweet_id'], row['tag_id'])\n",
    "        yksittaisenTwiitinHashTagit.append(row['tag_id'])\n",
    "    if 1 not in yksittaisenTwiitinHashTagit:\n",
    "        yksittaisenTwiitinHashTagit.append(1)\n",
    "    if len(yksittaisenTwiitinHashTagit) > 1:\n",
    "        yksittaisenTwiitinHashTagit.sort()\n",
    "        #print(\"Ovatko nyt hahstagin id:n perusteella järjestyksessä?\")\n",
    "        #for j in yksittaisenTwiitinHashTagit:\n",
    "            #print(j)\n",
    "            \n",
    "    \n",
    "    uniikin_twiitin_hashtagit.append(yksittaisenTwiitinHashTagit)"
   ]
  },
  {
   "cell_type": "code",
   "execution_count": 264,
   "metadata": {},
   "outputs": [
    {
     "data": {
      "text/plain": [
       "156"
      ]
     },
     "execution_count": 264,
     "metadata": {},
     "output_type": "execute_result"
    }
   ],
   "source": [
    "#G[\"etätyö\"]\n",
    "\n",
    "G[\"etätyö\"][\"koronafi\"][\"weight\"]"
   ]
  },
  {
   "cell_type": "code",
   "execution_count": 218,
   "metadata": {},
   "outputs": [],
   "source": [
    "uniikkien_hashtagit = []\n",
    "for i in uniikin_twiitin_hashtagit:\n",
    "    #print(\"\")\n",
    "    listaApu = []\n",
    "    for j in i:\n",
    "        nimi = get_hashtag_from_id(j)\n",
    "        listaApu.append(nimi)        \n",
    "        #print(\"\\t\",j)\n",
    "        #print(nimi)\n",
    "    # Code had a bug originally, where it didn't save all the text contained in retweets or\n",
    "    # quotations. This seemed to also prevent it capturing all hashtags. However, as the listener\n",
    "    # only captures tweets with the hashtag #etätyö, it is safe/reasonable to add the tag\n",
    "    # to those tweets that currently lack the hashtag.\n",
    "    if \"etätyö\" not in listaApu:\n",
    "        listaApu.append(\"etätyö\")\n",
    "    \n",
    "    \n",
    "        \n",
    "    uniikkien_hashtagit.append(listaApu)"
   ]
  },
  {
   "cell_type": "code",
   "execution_count": 219,
   "metadata": {},
   "outputs": [],
   "source": [
    "#for i in uniikkien_hashtagit:\n",
    "#    print(\"\")\n",
    "#    #listaApu = []\n",
    "#    for j in i:\n",
    "#        nimi = get_hashtag_from_id(j)\n",
    "#        #listaApu.append(nimi)        \n",
    "#        #print(\"\\t\",j)\n",
    "#        print(nimi)"
   ]
  },
  {
   "cell_type": "code",
   "execution_count": 220,
   "metadata": {},
   "outputs": [],
   "source": [
    "def edges_from_hashtags(list_of_hashtags_in_tweets, graph):\n",
    "    \"\"\"\n",
    "    The purpose of this module is to create edges from the hashtags present in a single tweet. If there\n",
    "    is only one hashtag present, module doesn't do anything.\n",
    "    \n",
    "    ==> Might be a good idea to somehow adjust a node's color or similar in the visualization to get\n",
    "    an idea, how many times any single hashtag has been observed in the dataset. \n",
    "    \n",
    "    input: \n",
    "       - a list of a tweet's hashtags; \n",
    "       - a networkx graph object - one that is compatible with undirected\n",
    "         edges.\n",
    "    \n",
    "    \"\"\"\n",
    "    i = 0\n",
    "    while(i < len(list_of_hashtags_in_tweets)):\n",
    "        #print(\"i = \", i, \"ts. lukua i vastaisi:\", lista[i] )\n",
    "        j = i+1\n",
    "        #print(\"\\tLoppu lista, j= \", j)\n",
    "        for x in range(j, len(list_of_hashtags_in_tweets)):\n",
    "            y = list_of_hashtags_in_tweets[x]\n",
    "            #print(\"\\t\", y)\n",
    "            if graph.has_edge(list_of_hashtags_in_tweets[i], y):\n",
    "                alkupaino = graph[list_of_hashtags_in_tweets[i]][y]['weight']\n",
    "                uusipaino = alkupaino + 1\n",
    "                graph[list_of_hashtags_in_tweets[i]][y]['weight'] = uusipaino\n",
    "            else:\n",
    "                graph.add_edge(list_of_hashtags_in_tweets[i], y, weight=1)\n",
    "        i = i+1\n",
    "    \n",
    "    \n",
    "    \n",
    "    "
   ]
  },
  {
   "cell_type": "code",
   "execution_count": 221,
   "metadata": {},
   "outputs": [],
   "source": [
    "for i in uniikkien_hashtagit:\n",
    "    edges_from_hashtags(i, G)"
   ]
  },
  {
   "cell_type": "code",
   "execution_count": 222,
   "metadata": {},
   "outputs": [
    {
     "data": {
      "text/plain": [
       "<networkx.classes.graph.Graph at 0x7f7df3b3c850>"
      ]
     },
     "execution_count": 222,
     "metadata": {},
     "output_type": "execute_result"
    }
   ],
   "source": [
    "G"
   ]
  },
  {
   "cell_type": "code",
   "execution_count": 223,
   "metadata": {},
   "outputs": [],
   "source": [
    "# Näin saat edgejen painot:\n",
    "#G.edges\n",
    "\n",
    "#for edge in G.edges:\n",
    "    #print(G[edge[0]][edge[1]]['weight'])"
   ]
  },
  {
   "cell_type": "code",
   "execution_count": null,
   "metadata": {},
   "outputs": [],
   "source": []
  },
  {
   "cell_type": "code",
   "execution_count": 224,
   "metadata": {},
   "outputs": [],
   "source": [
    "def get_hashtag_id(hashtag_nimi):\n",
    "    \"\"\"\n",
    "    A method which gets the id of a \n",
    "    \"\"\"\n",
    "    res = db.query(\"SELECT id FROM hashtags WHERE hashtag='{}'\".format(hashtag_nimi))\n",
    "    #id = 0\n",
    "    id = 0\n",
    "    #nimi = \"\"\n",
    "    for row in res:\n",
    "        #print(row['hashtag'])\n",
    "        #nimi = row['hashtag']\n",
    "        id = row['id']\n",
    "        print(id)\n",
    "    #return nimi\n",
    "    return id\n",
    "#nimi = \"\"\n",
    "#for row in res:\n",
    "#    nimi = row['hashtag']\n",
    "#return nimi    "
   ]
  },
  {
   "cell_type": "markdown",
   "metadata": {},
   "source": [
    "## Useful method"
   ]
  },
  {
   "cell_type": "code",
   "execution_count": 225,
   "metadata": {},
   "outputs": [],
   "source": [
    "def get_hashtag_esiintynyt(hashtag_nimi):\n",
    "    \"\"\"\n",
    "    Finds out how many times a particular hashtag has appeared in the dataset\n",
    "    \"\"\"\n",
    "    res = db.query(\"SELECT esiintynyt FROM hashtags WHERE hashtag='{}'\".format(hashtag_nimi))\n",
    "    esiintynyt = 0\n",
    "    for row in res:\n",
    "        esiintynyt = row['esiintynyt']\n",
    "    return esiintynyt"
   ]
  },
  {
   "cell_type": "code",
   "execution_count": 226,
   "metadata": {},
   "outputs": [
    {
     "data": {
      "text/plain": [
       "839"
      ]
     },
     "execution_count": 226,
     "metadata": {},
     "output_type": "execute_result"
    }
   ],
   "source": [
    "get_hashtag_esiintynyt('etätyö')"
   ]
  },
  {
   "cell_type": "code",
   "execution_count": 227,
   "metadata": {},
   "outputs": [
    {
     "data": {
      "text/plain": [
       "1"
      ]
     },
     "execution_count": 227,
     "metadata": {},
     "output_type": "execute_result"
    }
   ],
   "source": [
    "get_hashtag_id('etätyö')"
   ]
  },
  {
   "cell_type": "code",
   "execution_count": 228,
   "metadata": {},
   "outputs": [],
   "source": [
    "from pyvis.network import Network"
   ]
  },
  {
   "cell_type": "code",
   "execution_count": 229,
   "metadata": {},
   "outputs": [],
   "source": [
    "#g = Network(notebook=True)\n",
    "#g.barnes_hut()\n",
    "\n",
    "#for G.edges\n",
    "\n",
    "#for node in G.nodes:\n",
    "#    esiintynyt = get_hashtag_esiintynyt(node)\n",
    "    #print(esiintynyt)\n",
    "    #g.add_node(id=get_hashtag_id(node), label=node, size=esiintynyt)\n",
    "#    g.add_node(id=esiintynyt, label=node)\n",
    "\n",
    "#for edge in G.edges:\n",
    "    g.add_edge(edge[0], edge[1], value=G[edge[0]][edge[1]]['weight'])\n",
    "    #print(G[edge[0]][edge[1]]['weight'])"
   ]
  },
  {
   "cell_type": "code",
   "execution_count": null,
   "metadata": {},
   "outputs": [],
   "source": []
  },
  {
   "cell_type": "code",
   "execution_count": 272,
   "metadata": {},
   "outputs": [
    {
     "data": {
      "text/html": [
       "\n",
       "        <iframe\n",
       "            width=\"100%\"\n",
       "            height=\"750px\"\n",
       "            src=\"example.html\"\n",
       "            frameborder=\"0\"\n",
       "            allowfullscreen\n",
       "        ></iframe>\n",
       "        "
      ],
      "text/plain": [
       "<IPython.lib.display.IFrame at 0x7f7df3864e10>"
      ]
     },
     "execution_count": 272,
     "metadata": {},
     "output_type": "execute_result"
    }
   ],
   "source": [
    "#Nain saat suoraan kaikki kai g:sta, mutta painot eivat oikein siirtyneet\n",
    "import math\n",
    "g = Network(height=\"750px\", width=\"100%\", notebook=True)\n",
    "g.barnes_hut()\n",
    "#g.from_nx(G)\n",
    "\n",
    "for node in G.nodes:\n",
    "    #print(node)\n",
    "    \n",
    "    koko = laskeEsiintymiskerrat(node)\n",
    "    #print(\"noden esiintymiskerrat: \", koko)\n",
    "    #g.add_node(node, size=koko)\n",
    "    kerroin = 0\n",
    "    kerroin = (koko / 100)+1\n",
    "    kerroin = kerroin*10\n",
    "   # print(kerroin)\n",
    "    #print(math.log1p(koko)*10)\n",
    "    kerroin = math.log1p(koko)*10\n",
    "    #print(math.log10(koko))\n",
    "    #print(int(kerroin))\n",
    "     \n",
    "    g.add_node(node, label=node,size=kerroin)\n",
    "    #print(g.get_node(node))\n",
    "    \n",
    "    #g.add_node(get_hashtag_id(node), size=int(kerroin), title=node)\n",
    "    #print(g.get_node(node))\n",
    "    \n",
    "for node in g.nodes:\n",
    "    #print(node[\"id\"])\n",
    "    mainittu = laskeEsiintymiskerrat(node[\"id\"])\n",
    "    # Title sets the information shown, when a node is clicked.\n",
    "    node[\"title\"] = \"<b>\" + node[\"id\"] + \"</b>\" + \" mainittu aineistossa: \" + str(mainittu) + \" kertaa\"\n",
    "for edge in G.edges:\n",
    "    #print(edge[0])\n",
    "    #if \"etätyö\" not in edge[0]:\n",
    "    #    print(edge[0])\n",
    "    kaaren_paino = G[edge[0]][edge[1]]['weight']\n",
    "    # Edge label with from and to edges mentioned\n",
    "    #g.add_edge(edge[0], edge[1], value=G[edge[0]][edge[1]]['weight'], label=edge[0]+\"-\"+str(kaaren_paino)+\"-\"+edge[1])\n",
    "    # Edge label with weight\n",
    "    g.add_edge(edge[0], edge[1], value=G[edge[0]][edge[1]]['weight'], label=str(kaaren_paino))\n",
    "    \n",
    "\n",
    "\n",
    "#Network.show_buttons(filter_=['physics'])\n",
    "# toinen vaihtoehto physicsille on nodes\n",
    "g.show_buttons(filter_=['physics'])\n",
    "#g.set_options()\n",
    "g.show(\"example.html\")"
   ]
  },
  {
   "cell_type": "code",
   "execution_count": 50,
   "metadata": {},
   "outputs": [
    {
     "data": {
      "text/plain": [
       "<bound method Graph.adjacency of <networkx.classes.graph.Graph object at 0x7fc2e094d790>>"
      ]
     },
     "execution_count": 50,
     "metadata": {},
     "output_type": "execute_result"
    }
   ],
   "source": [
    "G.adjacency"
   ]
  },
  {
   "cell_type": "code",
   "execution_count": 250,
   "metadata": {},
   "outputs": [],
   "source": [
    "from pyvis.network import Network\n",
    "import pandas as pd\n",
    "\n",
    "got_net = Network(height=\"750px\", width=\"100%\", bgcolor=\"#222222\", font_color=\"white\")\n",
    "\n",
    "# set the physics layout of the network\n",
    "got_net.barnes_hut()\n",
    "got_data = pd.read_csv(\"https://www.macalester.edu/~abeverid/data/stormofswords.csv\")\n",
    "\n",
    "sources = got_data['Source']\n",
    "targets = got_data['Target']\n",
    "weights = got_data['Weight']\n",
    "\n",
    "edge_data = zip(sources, targets, weights)\n",
    "\n",
    "for e in edge_data:\n",
    "    src = e[0]\n",
    "    dst = e[1]\n",
    "    w = e[2]\n",
    "\n",
    "    got_net.add_node(src, src, title=src)\n",
    "    got_net.add_node(dst, dst, title=dst)\n",
    "    got_net.add_edge(src, dst, value=w)\n",
    "\n",
    "neighbor_map = got_net.get_adj_list()\n",
    "\n",
    "# add neighbor data to node hover data\n",
    "for node in got_net.nodes:\n",
    "    node[\"title\"] += \" Neighbors:<br>\" + \"<br>\".join(neighbor_map[node[\"id\"]])\n",
    "    node[\"value\"] = len(neighbor_map[node[\"id\"]])\n",
    "\n",
    "got_net.show(\"gameofthrones.html\")"
   ]
  },
  {
   "cell_type": "code",
   "execution_count": null,
   "metadata": {},
   "outputs": [],
   "source": []
  },
  {
   "cell_type": "code",
   "execution_count": null,
   "metadata": {},
   "outputs": [],
   "source": []
  },
  {
   "cell_type": "code",
   "execution_count": null,
   "metadata": {},
   "outputs": [],
   "source": []
  },
  {
   "cell_type": "code",
   "execution_count": 12,
   "metadata": {},
   "outputs": [],
   "source": [
    "C= nx.Graph()"
   ]
  },
  {
   "cell_type": "code",
   "execution_count": 13,
   "metadata": {},
   "outputs": [],
   "source": [
    "for i in range(1, 10):\n",
    "    C.add_node(i)"
   ]
  },
  {
   "cell_type": "code",
   "execution_count": 14,
   "metadata": {},
   "outputs": [],
   "source": [
    "# Lisataan kaari vaikkapa solmujen 1,2 valiin\n",
    "C.add_edge(1,2, weight=1)"
   ]
  },
  {
   "cell_type": "code",
   "execution_count": 15,
   "metadata": {},
   "outputs": [
    {
     "data": {
      "text/plain": [
       "EdgeView([(1, 2)])"
      ]
     },
     "execution_count": 15,
     "metadata": {},
     "output_type": "execute_result"
    }
   ],
   "source": [
    "C.edges()"
   ]
  },
  {
   "cell_type": "code",
   "execution_count": 16,
   "metadata": {},
   "outputs": [
    {
     "data": {
      "text/plain": [
       "True"
      ]
     },
     "execution_count": 16,
     "metadata": {},
     "output_type": "execute_result"
    }
   ],
   "source": [
    "C.has_edge(1, 2)"
   ]
  },
  {
   "cell_type": "code",
   "execution_count": 17,
   "metadata": {},
   "outputs": [
    {
     "data": {
      "text/plain": [
       "False"
      ]
     },
     "execution_count": 17,
     "metadata": {},
     "output_type": "execute_result"
    }
   ],
   "source": [
    "C.has_edge(1,3)"
   ]
  },
  {
   "cell_type": "code",
   "execution_count": 18,
   "metadata": {},
   "outputs": [
    {
     "data": {
      "text/plain": [
       "True"
      ]
     },
     "execution_count": 18,
     "metadata": {},
     "output_type": "execute_result"
    }
   ],
   "source": [
    "C.has_edge(2,1)"
   ]
  },
  {
   "cell_type": "code",
   "execution_count": 19,
   "metadata": {},
   "outputs": [],
   "source": [
    "# Jos on olemassa kaari solmujen 1 ja 2 valilla, kasvatamme kaaaaaren painoa yhdella yksikolla.\n",
    "\n",
    "if C.has_edge(1,2):\n",
    "    C[1][2]['weight'] = 2"
   ]
  },
  {
   "cell_type": "code",
   "execution_count": 20,
   "metadata": {},
   "outputs": [
    {
     "data": {
      "text/plain": [
       "<networkx.classes.graph.Graph at 0x6fd20750>"
      ]
     },
     "execution_count": 20,
     "metadata": {},
     "output_type": "execute_result"
    }
   ],
   "source": [
    "C"
   ]
  },
  {
   "cell_type": "code",
   "execution_count": 64,
   "metadata": {},
   "outputs": [
    {
     "name": "stdout",
     "output_type": "stream",
     "text": [
      "3\n"
     ]
    },
    {
     "data": {
      "text/plain": [
       "4"
      ]
     },
     "execution_count": 64,
     "metadata": {},
     "output_type": "execute_result"
    }
   ],
   "source": [
    "C.get_edge_data(2,1)\n",
    "C.get_edge_data(2,1)\n",
    "# ==> {'weight': 2}\n",
    "# Edellisestakin saadaan toki jo paino selville, mutta näin paino saadaan suoraan\n",
    "# int-muotoisena ulos:\n",
    "kaarenNykyPaino = C.get_edge_data(2,1)['weight']\n",
    "kaarenUusiPaino = kaarenNykyPaino + 1\n",
    "print(C.get_edge_data(2,1)['weight'])\n",
    "C[2][1]['weight'] = kaarenUusiPaino\n",
    "C.get_edge_data(1,2)['weight']"
   ]
  },
  {
   "cell_type": "markdown",
   "metadata": {},
   "source": [
    "## NetworkX-sivulta loytyvaa dokumentaatiota\n",
    "\n",
    "* [Graph types](https://networkx.github.io/documentation/stable/reference/classes/graph.html)\n",
    "* [Tutorial](https://networkx.github.io/documentation/networkx-1.10/reference/classes.graph.html)\n",
    "* [Functions: Attributes](https://networkx.github.io/documentation/stable/reference/functions.html)"
   ]
  },
  {
   "cell_type": "code",
   "execution_count": 26,
   "metadata": {},
   "outputs": [],
   "source": [
    "D = nx.Graph()"
   ]
  },
  {
   "cell_type": "code",
   "execution_count": 27,
   "metadata": {},
   "outputs": [],
   "source": [
    "D.add_node(1)\n",
    "D.add_node(3)\n",
    "D.add_node(5)\n",
    "D.add_node(7)"
   ]
  },
  {
   "cell_type": "code",
   "execution_count": 28,
   "metadata": {},
   "outputs": [],
   "source": [
    "lista = [1, 3, 5, 7]"
   ]
  },
  {
   "cell_type": "code",
   "execution_count": 73,
   "metadata": {},
   "outputs": [
    {
     "name": "stdout",
     "output_type": "stream",
     "text": [
      "i =  0 ts. lukua i vastaisi: 1\n",
      "\tLoppu lista, j=  1\n",
      "\t 3\n",
      "\t 5\n",
      "\t 7\n",
      "i =  1 ts. lukua i vastaisi: 3\n",
      "\tLoppu lista, j=  2\n",
      "\t 5\n",
      "\t 7\n",
      "i =  2 ts. lukua i vastaisi: 5\n",
      "\tLoppu lista, j=  3\n",
      "\t 7\n",
      "i =  3 ts. lukua i vastaisi: 7\n",
      "\tLoppu lista, j=  4\n"
     ]
    }
   ],
   "source": [
    "# Keino käydä läpi n-pituinen lista twiitissä esiintyneitä hashtageja ja luoda polku kunkin välille\n",
    "# verkkoesityksessä. Tavoitteena on kuitenkin myös luoda painot poluille ja pitää kirjaa sitä,\n",
    "# ollaanko sama polku määritelty jo aiemmassakin vaiheessa.\n",
    "\n",
    "i = 0\n",
    "while(i < len(lista)):\n",
    "    print(\"i = \", i, \"ts. lukua i vastaisi:\", lista[i] )\n",
    "    j = i+1\n",
    "    print(\"\\tLoppu lista, j= \", j)\n",
    "    for x in range(j, len(lista)):\n",
    "        y = lista[x]\n",
    "        print(\"\\t\", y)\n",
    "        D.add_edge(lista[i], y, weight=1)\n",
    "    i = i+1\n",
    "        "
   ]
  },
  {
   "cell_type": "code",
   "execution_count": 23,
   "metadata": {},
   "outputs": [
    {
     "ename": "IndentationError",
     "evalue": "expected an indented block (<ipython-input-23-dfab0c2480e7>, line 15)",
     "output_type": "error",
     "traceback": [
      "\u001b[0;36m  File \u001b[0;32m\"<ipython-input-23-dfab0c2480e7>\"\u001b[0;36m, line \u001b[0;32m15\u001b[0m\n\u001b[0;31m    D.add_edge(list_of_edges[i], y, weight=1)\u001b[0m\n\u001b[0m    ^\u001b[0m\n\u001b[0;31mIndentationError\u001b[0m\u001b[0;31m:\u001b[0m expected an indented block\n"
     ]
    }
   ],
   "source": [
    "# Keino käydä läpi n-pituinen lista twiitissä esiintyneitä hashtageja ja luoda polku kunkin välille\n",
    "# verkkoesityksessä. Tavoitteena on kuitenkin myös luoda painot poluille ja pitää kirjaa sitä,\n",
    "# ollaanko sama polku määritelty jo aiemmassakin vaiheessa.\n",
    "def add_edges(graph, list_of_edges):\n",
    "    i = 0\n",
    "    while(i < len(list_of_edges)):\n",
    "        print(\"i = \", i, \"ts. lukua i vastaisi:\", lista[i] )\n",
    "        j = i+1\n",
    "        print(\"\\tLoppu lista, j= \", j)\n",
    "        for x in range(j, len(list_of_edges)):\n",
    "            y = list_of_edges[x]\n",
    "            print(\"\\t\", y)\n",
    "            if graph.has_edge(list_of_edges[i], y):\n",
    "                g\n",
    "            D.add_edge(list_of_edges[i], y, weight=1)\n",
    "        i = i+1\n",
    "        "
   ]
  },
  {
   "cell_type": "code",
   "execution_count": 13,
   "metadata": {},
   "outputs": [],
   "source": [
    "def edges_from_hashtags(list_of_hashtags, graph_network):\n",
    "    \"\"\"\n",
    "    The purpose of this module is to create edges from the hashtags present in a single tweet. If there\n",
    "    is only one hashtag present, module doesn't do anything.\n",
    "    \n",
    "    ==> Might be a good idea to somehow adjust a node's color or similar in the visualization to get\n",
    "    an idea, how many times any single hashtag has been observed in the dataset. \n",
    "    \n",
    "    input: \n",
    "       - a list of a tweet's hashtags; \n",
    "       - a networkx graph object - one that is compatible with undirected\n",
    "         edges.\n",
    "    \n",
    "    \"\"\"\n",
    "    \n",
    "    i = 0\n",
    "    while(i < len(lista)):\n",
    "        print(\"i = \", i, \"ts. lukua i vastaisi:\", lista[i] )\n",
    "        j = i+1\n",
    "        print(\"\\tLoppu lista, j= \", j)\n",
    "        for x in range(j, len(lista)):\n",
    "            y = lista[x]\n",
    "            print(\"\\t\", y)\n",
    "            if D.has_edge(lista[i], y):\n",
    "                alkupaino = graph[lista[i]][y]['weight']\n",
    "                uusipaino = alkupaino + 1\n",
    "                graph[lista[i]][y]{'weight'} = uusipaino\n",
    "            else:\n",
    "                graph.add_edge(lista[i], y, weight=1)\n",
    "        i = i+1\n",
    "    \n",
    "    \n",
    "    \n",
    "    \n",
    "    "
   ]
  },
  {
   "cell_type": "code",
   "execution_count": null,
   "metadata": {},
   "outputs": [],
   "source": [
    "edges_from_hashtags(D, )"
   ]
  },
  {
   "cell_type": "code",
   "execution_count": 75,
   "metadata": {},
   "outputs": [],
   "source": [
    "def is_edge_present(self, node1_id, node2_id, graph):\n",
    "    \"\"\"\n",
    "    This module checks whether there already exists a node between two nodes (=hashtags) and returns a boolean\n",
    "    value.\n",
    "    \n",
    "    input:\n",
    "        - id's of two hashtags\n",
    "        - networkx graph object.\n",
    "    \n",
    "    \"\"\"\n",
    "    if graph.has_edge(node1, node2):\n",
    "        return True\n",
    "    return False\n",
    "    "
   ]
  },
  {
   "cell_type": "code",
   "execution_count": null,
   "metadata": {},
   "outputs": [],
   "source": [
    "def adjust_edge_weight(self, node1, node2, graph):\n",
    "    \"\"\" \n",
    "    Adjusts the edge's weight. If edge exists, but doesn't have a weight yet - meaning it was just added,\n",
    "    \n",
    "    \"\"\"\n",
    "    if graph.has_edge(node1, node2):\n",
    "        \n",
    "        \n",
    "    \n",
    "    "
   ]
  },
  {
   "cell_type": "code",
   "execution_count": 83,
   "metadata": {},
   "outputs": [],
   "source": [
    "D.add_edge(15, 16)"
   ]
  },
  {
   "cell_type": "code",
   "execution_count": null,
   "metadata": {},
   "outputs": [],
   "source": [
    "D[15, 16]"
   ]
  },
  {
   "cell_type": "code",
   "execution_count": null,
   "metadata": {},
   "outputs": [],
   "source": [
    "D."
   ]
  },
  {
   "cell_type": "code",
   "execution_count": 84,
   "metadata": {},
   "outputs": [
    {
     "data": {
      "text/plain": [
       "{}"
      ]
     },
     "execution_count": 84,
     "metadata": {},
     "output_type": "execute_result"
    }
   ],
   "source": [
    "D.get_edge_data(15,16)"
   ]
  },
  {
   "cell_type": "code",
   "execution_count": 80,
   "metadata": {},
   "outputs": [
    {
     "data": {
      "text/plain": [
       "True"
      ]
     },
     "execution_count": 80,
     "metadata": {},
     "output_type": "execute_result"
    }
   ],
   "source": [
    "D.has_edge(3,1)"
   ]
  },
  {
   "cell_type": "code",
   "execution_count": null,
   "metadata": {},
   "outputs": [],
   "source": [
    "D."
   ]
  },
  {
   "cell_type": "code",
   "execution_count": 82,
   "metadata": {},
   "outputs": [
    {
     "data": {
      "text/plain": [
       "1"
      ]
     },
     "execution_count": 82,
     "metadata": {},
     "output_type": "execute_result"
    }
   ],
   "source": [
    "D.get_edge_data(3,1)['weight']"
   ]
  },
  {
   "cell_type": "code",
   "execution_count": 67,
   "metadata": {},
   "outputs": [
    {
     "data": {
      "text/plain": [
       "EdgeView([(1, 3), (1, 5), (1, 7), (3, 5), (3, 7), (5, 7)])"
      ]
     },
     "execution_count": 67,
     "metadata": {},
     "output_type": "execute_result"
    }
   ],
   "source": [
    "D.edges()\n",
    "\n"
   ]
  },
  {
   "cell_type": "code",
   "execution_count": 72,
   "metadata": {},
   "outputs": [
    {
     "name": "stdout",
     "output_type": "stream",
     "text": [
      "(1, 3)\n",
      "i:nnen kaaren solmujen tulostaminen käy näin: \n",
      "1\n",
      "3\n",
      "Oli jo kaari solmujen 3 ja 1 välillä\n",
      "alkupaino:  4\n",
      "uusipaino:  5\n"
     ]
    },
    {
     "ename": "NameError",
     "evalue": "name 'nykypaino' is not defined",
     "output_type": "error",
     "traceback": [
      "\u001b[0;31m---------------------------------------------------------------------------\u001b[0m",
      "\u001b[0;31mNameError\u001b[0m                                 Traceback (most recent call last)",
      "\u001b[0;32m<ipython-input-72-d82cde51dd28>\u001b[0m in \u001b[0;36m<module>\u001b[0;34m\u001b[0m\n\u001b[1;32m     27\u001b[0m         \u001b[0;31m#nykypaino = D.get_edge_data(tuplenEkaSolmu, tuplenToka)['weight']\u001b[0m\u001b[0;34m\u001b[0m\u001b[0;34m\u001b[0m\u001b[0;34m\u001b[0m\u001b[0m\n\u001b[1;32m     28\u001b[0m         \u001b[0;31m#D.get_edge_data(tuplenEkaSolmu,tuplenToka)['weight']\u001b[0m\u001b[0;34m\u001b[0m\u001b[0;34m\u001b[0m\u001b[0;34m\u001b[0m\u001b[0m\n\u001b[0;32m---> 29\u001b[0;31m         \u001b[0mprint\u001b[0m\u001b[0;34m(\u001b[0m\u001b[0mnykypaino\u001b[0m\u001b[0;34m,\u001b[0m \u001b[0;34m\"tyyppi: \"\u001b[0m\u001b[0;34m,\u001b[0m \u001b[0mtype\u001b[0m\u001b[0;34m(\u001b[0m\u001b[0mnykypaino\u001b[0m\u001b[0;34m)\u001b[0m\u001b[0;34m)\u001b[0m\u001b[0;34m\u001b[0m\u001b[0;34m\u001b[0m\u001b[0m\n\u001b[0m\u001b[1;32m     30\u001b[0m         \u001b[0;31m#print(nykypaino)\u001b[0m\u001b[0;34m\u001b[0m\u001b[0;34m\u001b[0m\u001b[0;34m\u001b[0m\u001b[0m\n\u001b[1;32m     31\u001b[0m         \u001b[0;31m#uusiPaino = nykypaino + 1\u001b[0m\u001b[0;34m\u001b[0m\u001b[0;34m\u001b[0m\u001b[0;34m\u001b[0m\u001b[0m\n",
      "\u001b[0;31mNameError\u001b[0m: name 'nykypaino' is not defined"
     ]
    }
   ],
   "source": [
    "# Varmistetaan, että edellisessä vaiheessa luotuja solmuja vastaavia solmuja ei ollut jo olemassa Mikäli oli,\n",
    "# korvaamme alkuperäisen kaaren painon uudella +1 suuremmalla painolla. \n",
    "for i in D.edges():\n",
    "    print(i)\n",
    "    print(\"i:nnen kaaren solmujen tulostaminen käy näin: \")\n",
    "    tuplenEkaSolmu = i[0]\n",
    "    tuplenToka = i[1]\n",
    "    print(i[0])\n",
    "    print(i[1])\n",
    "    if D.has_edge(tuplenToka, tuplenEkaSolmu):\n",
    "    #if D.has_edge(i):\n",
    "        print(\"Oli jo kaari solmujen 3 ja 1 välillä\")\n",
    "        eka = min(tuplenToka, tuplenEkaSolmu)\n",
    "        toka = max(tuplenToka, tuplenEkaSolmu)\n",
    "        \n",
    "        alkupaino = D[tuplenEkaSolmu][tuplenToka]['weight']\n",
    "        print(\"alkupaino: \", alkupaino )\n",
    "        \n",
    "        # Löydettiin myöhemmässä vaiheessa samat solmut yhdistävä kaari, joten kasvatetaan\n",
    "        # aiemmin luodun kaaren painoa +1.\n",
    "        uusipaino = alkupaino + 1\n",
    "        print(\"uusipaino: \", uusipaino)\n",
    "        \n",
    "        D[eka][toka][\"weight\"] = uusipaino\n",
    "        \n",
    "        #D[tuplenEkaSolmu][tuplenToka][\"weight\"] = (int(D[tuplenEkaSolmu][tuplenToka][\"weight\"]) + 1)\n",
    "        #ekaSolmu = \n",
    "        #C.get_edge_data(2,1)['weight']\n",
    "        #nykypaino = D.get_edge_data(tuplenEkaSolmu, tuplenToka)['weight']\n",
    "        #D.get_edge_data(tuplenEkaSolmu,tuplenToka)['weight']\n",
    "        print(nykypaino, \"tyyppi: \", type(nykypaino))\n",
    "        #print(nykypaino)\n",
    "        #uusiPaino = nykypaino + 1\n",
    "        #D[tuplenEkaSolmu][tuplenToka]['weight'] = uusiPaino\n",
    "        #D[tuplenEkaSolmu][tuplenToka] = D.get_edge_data(tuplenEkaSolmu,tuplenToka)['weight']\n",
    "        #nykyinenPaino = D.get_edge_data(2,1)['weight']\n",
    "        #uusiPaino = nykyinenPaino + 1\n",
    "        #print(\"PAINO LOPUSSA\")\n",
    "        #print(D[tuplenEkaSolmu][tuplenToka]['weight'])\n",
    "        "
   ]
  },
  {
   "cell_type": "code",
   "execution_count": null,
   "metadata": {},
   "outputs": [],
   "source": []
  }
 ],
 "metadata": {
  "kernelspec": {
   "display_name": ".venvEnv",
   "language": "python",
   "name": ".venvenv"
  },
  "language_info": {
   "codemirror_mode": {
    "name": "ipython",
    "version": 3
   },
   "file_extension": ".py",
   "mimetype": "text/x-python",
   "name": "python",
   "nbconvert_exporter": "python",
   "pygments_lexer": "ipython3",
   "version": "3.7.7"
  }
 },
 "nbformat": 4,
 "nbformat_minor": 4
}
